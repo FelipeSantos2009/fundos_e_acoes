{
 "cells": [
  {
   "cell_type": "code",
   "execution_count": 16,
   "id": "6c216fdb",
   "metadata": {},
   "outputs": [],
   "source": [
    "import pyautogui\n",
    "import time\n",
    "\n",
    "# acessar o youtube\n",
    "\n",
    "pyautogui.PAUSE = 1\n",
    "\n",
    "pyautogui.hotkey(\"ctrl\", \"n\")\n",
    "time.sleep(1)\n",
    "pyautogui.write(\"youtube.com\")\n",
    "time.sleep(1)\n",
    "pyautogui.press('enter')\n",
    "time.sleep(0.5)\n",
    "pyautogui.click(x=609, y=92)\n",
    "time.sleep(1)\n",
    "pyautogui.write('bethoven')\n",
    "time.sleep(0.5)\n",
    "pyautogui.press('enter')\n",
    "time.sleep(0.5)\n",
    "pyautogui.click(x=461, y=559)"
   ]
  },
  {
   "cell_type": "code",
   "execution_count": 32,
   "id": "4b35e799",
   "metadata": {},
   "outputs": [
    {
     "name": "stdout",
     "output_type": "stream",
     "text": [
      "Point(x=1328, y=689)\n"
     ]
    }
   ],
   "source": [
    "time.sleep(5)\n",
    "print(pyautogui.position())"
   ]
  },
  {
   "cell_type": "code",
   "execution_count": 1,
   "id": "a2ecd1e7",
   "metadata": {},
   "outputs": [],
   "source": [
    "import pyautogui\n",
    "import time\n",
    "import pyperclip\n",
    "\n",
    "texto = 'Oi mãe, esta mensagem foi enviada pelo robozinho do Felipe, abraços'\n",
    "texto2 = 'Oi pai, esta mensagem foi enviada pelo robozinho do Felipe, abraços'\n",
    "#acessar o whattsapp web e mandar uma mensagem\n",
    "\n",
    "pyautogui.PAUSE = 1\n",
    "\n",
    "pyautogui.hotkey('ctrl', 't')\n",
    "time.sleep(1)\n",
    "pyautogui.write(\"whattsapp web\")\n",
    "time.sleep(1)\n",
    "pyautogui.press('enter')\n",
    "time.sleep(0.5)\n",
    "pyautogui.click(x=292, y=344)\n",
    "time.sleep(7)\n",
    "pyautogui.click(x=216, y=153)\n",
    "time.sleep(1)\n",
    "#pyautogui.write('mae')\n",
    "pyautogui.write('pai')\n",
    "time.sleep(0.5)\n",
    "pyautogui.click(x=238, y=284)\n",
    "time.sleep(0.5)\n",
    "#pyperclip.copy(texto)\n",
    "pyperclip.copy(texto2)\n",
    "pyautogui.hotkey('ctrl', 'v')\n",
    "\n",
    "#enviar\n",
    "pyautogui.click(x=1328, y=689)"
   ]
  },
  {
   "cell_type": "markdown",
   "id": "69aa8603",
   "metadata": {},
   "source": []
  }
 ],
 "metadata": {
  "kernelspec": {
   "display_name": "Python 3",
   "language": "python",
   "name": "python3"
  },
  "language_info": {
   "codemirror_mode": {
    "name": "ipython",
    "version": 3
   },
   "file_extension": ".py",
   "mimetype": "text/x-python",
   "name": "python",
   "nbconvert_exporter": "python",
   "pygments_lexer": "ipython3",
   "version": "3.8.8"
  }
 },
 "nbformat": 4,
 "nbformat_minor": 5
}
